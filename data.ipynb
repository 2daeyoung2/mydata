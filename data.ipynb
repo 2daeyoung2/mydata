{
 "cells": [
  {
   "cell_type": "code",
   "execution_count": null,
   "id": "e9268843-77cc-4ba2-9402-52d9d0cb9f0e",
   "metadata": {},
   "outputs": [],
   "source": [
    "import pandas as pd"
   ]
  },
  {
   "cell_type": "code",
   "execution_count": null,
   "id": "481bcd27-a610-46ff-aa1a-2134ee61b7c0",
   "metadata": {},
   "outputs": [],
   "source": [
    "saram = pd.DataFrame({'이름':['김갑수','박유진','김홍수','손흥남'],\n",
    "                      '키':[172,145,166,182],\n",
    "                      '나이':[54,31,19,34]\n",
    "                     }) "
   ]
  },
  {
   "cell_type": "code",
   "execution_count": null,
   "id": "388b8348-1448-4e67-9a59-2b0eb0f07f69",
   "metadata": {},
   "outputs": [],
   "source": [
    "saram"
   ]
  },
  {
   "cell_type": "code",
   "execution_count": null,
   "id": "d948038d-4b36-432c-9267-ac150f57efdb",
   "metadata": {},
   "outputs": [],
   "source": [
    "sum(saram['나이'])/len(saram['나이'])"
   ]
  },
  {
   "cell_type": "code",
   "execution_count": null,
   "id": "a1c82b05-0048-409e-b1cd-02f590789c3d",
   "metadata": {},
   "outputs": [],
   "source": [
    "saram['나이'].mean()"
   ]
  },
  {
   "cell_type": "code",
   "execution_count": null,
   "id": "a69728e3-0bbe-4b65-a482-d5d6713458d5",
   "metadata": {},
   "outputs": [],
   "source": [
    "saram.to_csv('saram.csv')"
   ]
  },
  {
   "cell_type": "code",
   "execution_count": null,
   "id": "3561bc03-8072-4c14-9d97-f5f206a363e5",
   "metadata": {},
   "outputs": [],
   "source": [
    "cccc=pd.read_csv('cccc.csv')"
   ]
  },
  {
   "cell_type": "code",
   "execution_count": null,
   "id": "e0f08d87-a2bf-4a3c-b48d-0f7abacaf6cf",
   "metadata": {},
   "outputs": [],
   "source": [
    "cccc2 = cccc.copy()"
   ]
  },
  {
   "cell_type": "code",
   "execution_count": null,
   "id": "7d0061c1-72a3-44c3-8174-8e77f0913a9c",
   "metadata": {},
   "outputs": [],
   "source": [
    "cccc2 = cccc.rename(columns = {'살인':'살해'})"
   ]
  },
  {
   "cell_type": "code",
   "execution_count": 49,
   "id": "bd7fa977-b5a9-4c1a-bd43-0a6621f78f5d",
   "metadata": {},
   "outputs": [],
   "source": [
    "saram['키(M)'] = saram['키']/100"
   ]
  },
  {
   "cell_type": "code",
   "execution_count": 53,
   "id": "f4aeae79-0f58-46d4-8816-7585ea1c9d48",
   "metadata": {},
   "outputs": [],
   "source": [
    "import numpy as np"
   ]
  },
  {
   "cell_type": "code",
   "execution_count": 54,
   "id": "a3ecc5aa-7c27-40bc-ad45-6068aaa4c006",
   "metadata": {},
   "outputs": [
    {
     "data": {
      "text/html": [
       "<div>\n",
       "<style scoped>\n",
       "    .dataframe tbody tr th:only-of-type {\n",
       "        vertical-align: middle;\n",
       "    }\n",
       "\n",
       "    .dataframe tbody tr th {\n",
       "        vertical-align: top;\n",
       "    }\n",
       "\n",
       "    .dataframe thead th {\n",
       "        text-align: right;\n",
       "    }\n",
       "</style>\n",
       "<table border=\"1\" class=\"dataframe\">\n",
       "  <thead>\n",
       "    <tr style=\"text-align: right;\">\n",
       "      <th></th>\n",
       "      <th>이름</th>\n",
       "      <th>키</th>\n",
       "      <th>나이</th>\n",
       "      <th>키(M)</th>\n",
       "    </tr>\n",
       "  </thead>\n",
       "  <tbody>\n",
       "    <tr>\n",
       "      <th>0</th>\n",
       "      <td>김갑수</td>\n",
       "      <td>172</td>\n",
       "      <td>54</td>\n",
       "      <td>1.72</td>\n",
       "    </tr>\n",
       "    <tr>\n",
       "      <th>1</th>\n",
       "      <td>박유진</td>\n",
       "      <td>145</td>\n",
       "      <td>31</td>\n",
       "      <td>1.45</td>\n",
       "    </tr>\n",
       "    <tr>\n",
       "      <th>2</th>\n",
       "      <td>김홍수</td>\n",
       "      <td>166</td>\n",
       "      <td>19</td>\n",
       "      <td>1.66</td>\n",
       "    </tr>\n",
       "    <tr>\n",
       "      <th>3</th>\n",
       "      <td>손흥남</td>\n",
       "      <td>182</td>\n",
       "      <td>34</td>\n",
       "      <td>1.82</td>\n",
       "    </tr>\n",
       "  </tbody>\n",
       "</table>\n",
       "</div>"
      ],
      "text/plain": [
       "    이름    키  나이  키(M)\n",
       "0  김갑수  172  54  1.72\n",
       "1  박유진  145  31  1.45\n",
       "2  김홍수  166  19  1.66\n",
       "3  손흥남  182  34  1.82"
      ]
     },
     "execution_count": 54,
     "metadata": {},
     "output_type": "execute_result"
    }
   ],
   "source": [
    "saram"
   ]
  },
  {
   "cell_type": "code",
   "execution_count": 58,
   "id": "c7feb7ed-e8a4-4c37-a5a4-e70395aaac94",
   "metadata": {},
   "outputs": [],
   "source": [
    "saram['키높낮이'] = np.where(saram['키']> 170,'큼','작음')"
   ]
  },
  {
   "cell_type": "code",
   "execution_count": 59,
   "id": "aef49aab-b5d5-4ef8-95f8-1e2a477c4fd3",
   "metadata": {},
   "outputs": [
    {
     "data": {
      "text/html": [
       "<div>\n",
       "<style scoped>\n",
       "    .dataframe tbody tr th:only-of-type {\n",
       "        vertical-align: middle;\n",
       "    }\n",
       "\n",
       "    .dataframe tbody tr th {\n",
       "        vertical-align: top;\n",
       "    }\n",
       "\n",
       "    .dataframe thead th {\n",
       "        text-align: right;\n",
       "    }\n",
       "</style>\n",
       "<table border=\"1\" class=\"dataframe\">\n",
       "  <thead>\n",
       "    <tr style=\"text-align: right;\">\n",
       "      <th></th>\n",
       "      <th>이름</th>\n",
       "      <th>키</th>\n",
       "      <th>나이</th>\n",
       "      <th>키(M)</th>\n",
       "      <th>키높낮이</th>\n",
       "    </tr>\n",
       "  </thead>\n",
       "  <tbody>\n",
       "    <tr>\n",
       "      <th>0</th>\n",
       "      <td>김갑수</td>\n",
       "      <td>172</td>\n",
       "      <td>54</td>\n",
       "      <td>1.72</td>\n",
       "      <td>큼</td>\n",
       "    </tr>\n",
       "    <tr>\n",
       "      <th>1</th>\n",
       "      <td>박유진</td>\n",
       "      <td>145</td>\n",
       "      <td>31</td>\n",
       "      <td>1.45</td>\n",
       "      <td>작음</td>\n",
       "    </tr>\n",
       "    <tr>\n",
       "      <th>2</th>\n",
       "      <td>김홍수</td>\n",
       "      <td>166</td>\n",
       "      <td>19</td>\n",
       "      <td>1.66</td>\n",
       "      <td>작음</td>\n",
       "    </tr>\n",
       "    <tr>\n",
       "      <th>3</th>\n",
       "      <td>손흥남</td>\n",
       "      <td>182</td>\n",
       "      <td>34</td>\n",
       "      <td>1.82</td>\n",
       "      <td>큼</td>\n",
       "    </tr>\n",
       "  </tbody>\n",
       "</table>\n",
       "</div>"
      ],
      "text/plain": [
       "    이름    키  나이  키(M) 키높낮이\n",
       "0  김갑수  172  54  1.72    큼\n",
       "1  박유진  145  31  1.45   작음\n",
       "2  김홍수  166  19  1.66   작음\n",
       "3  손흥남  182  34  1.82    큼"
      ]
     },
     "execution_count": 59,
     "metadata": {},
     "output_type": "execute_result"
    }
   ],
   "source": [
    "saram"
   ]
  },
  {
   "cell_type": "code",
   "execution_count": 75,
   "id": "f04b8d6e-7ba1-4d05-a2fc-392fd18ebd9d",
   "metadata": {},
   "outputs": [],
   "source": [
    "newsaram = saram.query('키 >= 172 & 나이 < 40')"
   ]
  },
  {
   "cell_type": "code",
   "execution_count": 79,
   "id": "29fcf920-d210-4535-8abd-d16b170b5c8f",
   "metadata": {},
   "outputs": [
    {
     "data": {
      "text/html": [
       "<div>\n",
       "<style scoped>\n",
       "    .dataframe tbody tr th:only-of-type {\n",
       "        vertical-align: middle;\n",
       "    }\n",
       "\n",
       "    .dataframe tbody tr th {\n",
       "        vertical-align: top;\n",
       "    }\n",
       "\n",
       "    .dataframe thead th {\n",
       "        text-align: right;\n",
       "    }\n",
       "</style>\n",
       "<table border=\"1\" class=\"dataframe\">\n",
       "  <thead>\n",
       "    <tr style=\"text-align: right;\">\n",
       "      <th></th>\n",
       "      <th>이름</th>\n",
       "      <th>키</th>\n",
       "      <th>나이</th>\n",
       "      <th>키높낮이</th>\n",
       "    </tr>\n",
       "  </thead>\n",
       "  <tbody>\n",
       "    <tr>\n",
       "      <th>0</th>\n",
       "      <td>김갑수</td>\n",
       "      <td>172</td>\n",
       "      <td>54</td>\n",
       "      <td>큼</td>\n",
       "    </tr>\n",
       "    <tr>\n",
       "      <th>1</th>\n",
       "      <td>박유진</td>\n",
       "      <td>145</td>\n",
       "      <td>31</td>\n",
       "      <td>작음</td>\n",
       "    </tr>\n",
       "    <tr>\n",
       "      <th>2</th>\n",
       "      <td>김홍수</td>\n",
       "      <td>166</td>\n",
       "      <td>19</td>\n",
       "      <td>작음</td>\n",
       "    </tr>\n",
       "    <tr>\n",
       "      <th>3</th>\n",
       "      <td>손흥남</td>\n",
       "      <td>182</td>\n",
       "      <td>34</td>\n",
       "      <td>큼</td>\n",
       "    </tr>\n",
       "  </tbody>\n",
       "</table>\n",
       "</div>"
      ],
      "text/plain": [
       "    이름    키  나이 키높낮이\n",
       "0  김갑수  172  54    큼\n",
       "1  박유진  145  31   작음\n",
       "2  김홍수  166  19   작음\n",
       "3  손흥남  182  34    큼"
      ]
     },
     "execution_count": 79,
     "metadata": {},
     "output_type": "execute_result"
    }
   ],
   "source": [
    "saram.drop(columns = '키(M)')"
   ]
  },
  {
   "cell_type": "code",
   "execution_count": 82,
   "id": "6c0aeb2a-c63a-4912-8bf1-8c0da4a2c294",
   "metadata": {},
   "outputs": [],
   "source": [
    "newsaram = saram.query('키 >= 172 & 나이 < 40')\\\n",
    "[['이름','키','나이']]\\\n",
    ".head()"
   ]
  },
  {
   "cell_type": "code",
   "execution_count": 83,
   "id": "94895cfe-d942-46e9-a277-90fe65dc7aa7",
   "metadata": {},
   "outputs": [
    {
     "data": {
      "text/html": [
       "<div>\n",
       "<style scoped>\n",
       "    .dataframe tbody tr th:only-of-type {\n",
       "        vertical-align: middle;\n",
       "    }\n",
       "\n",
       "    .dataframe tbody tr th {\n",
       "        vertical-align: top;\n",
       "    }\n",
       "\n",
       "    .dataframe thead th {\n",
       "        text-align: right;\n",
       "    }\n",
       "</style>\n",
       "<table border=\"1\" class=\"dataframe\">\n",
       "  <thead>\n",
       "    <tr style=\"text-align: right;\">\n",
       "      <th></th>\n",
       "      <th>이름</th>\n",
       "      <th>키</th>\n",
       "      <th>나이</th>\n",
       "    </tr>\n",
       "  </thead>\n",
       "  <tbody>\n",
       "    <tr>\n",
       "      <th>3</th>\n",
       "      <td>손흥남</td>\n",
       "      <td>182</td>\n",
       "      <td>34</td>\n",
       "    </tr>\n",
       "  </tbody>\n",
       "</table>\n",
       "</div>"
      ],
      "text/plain": [
       "    이름    키  나이\n",
       "3  손흥남  182  34"
      ]
     },
     "execution_count": 83,
     "metadata": {},
     "output_type": "execute_result"
    }
   ],
   "source": [
    "newsaram"
   ]
  },
  {
   "cell_type": "code",
   "execution_count": 84,
   "id": "204ff6b4-33aa-48c9-ae96-04873c054f49",
   "metadata": {},
   "outputs": [
    {
     "data": {
      "text/html": [
       "<div>\n",
       "<style scoped>\n",
       "    .dataframe tbody tr th:only-of-type {\n",
       "        vertical-align: middle;\n",
       "    }\n",
       "\n",
       "    .dataframe tbody tr th {\n",
       "        vertical-align: top;\n",
       "    }\n",
       "\n",
       "    .dataframe thead th {\n",
       "        text-align: right;\n",
       "    }\n",
       "</style>\n",
       "<table border=\"1\" class=\"dataframe\">\n",
       "  <thead>\n",
       "    <tr style=\"text-align: right;\">\n",
       "      <th></th>\n",
       "      <th>이름</th>\n",
       "      <th>키</th>\n",
       "      <th>나이</th>\n",
       "      <th>키(M)</th>\n",
       "      <th>키높낮이</th>\n",
       "    </tr>\n",
       "  </thead>\n",
       "  <tbody>\n",
       "    <tr>\n",
       "      <th>0</th>\n",
       "      <td>김갑수</td>\n",
       "      <td>172</td>\n",
       "      <td>54</td>\n",
       "      <td>1.72</td>\n",
       "      <td>큼</td>\n",
       "    </tr>\n",
       "    <tr>\n",
       "      <th>1</th>\n",
       "      <td>박유진</td>\n",
       "      <td>145</td>\n",
       "      <td>31</td>\n",
       "      <td>1.45</td>\n",
       "      <td>작음</td>\n",
       "    </tr>\n",
       "    <tr>\n",
       "      <th>2</th>\n",
       "      <td>김홍수</td>\n",
       "      <td>166</td>\n",
       "      <td>19</td>\n",
       "      <td>1.66</td>\n",
       "      <td>작음</td>\n",
       "    </tr>\n",
       "    <tr>\n",
       "      <th>3</th>\n",
       "      <td>손흥남</td>\n",
       "      <td>182</td>\n",
       "      <td>34</td>\n",
       "      <td>1.82</td>\n",
       "      <td>큼</td>\n",
       "    </tr>\n",
       "  </tbody>\n",
       "</table>\n",
       "</div>"
      ],
      "text/plain": [
       "    이름    키  나이  키(M) 키높낮이\n",
       "0  김갑수  172  54  1.72    큼\n",
       "1  박유진  145  31  1.45   작음\n",
       "2  김홍수  166  19  1.66   작음\n",
       "3  손흥남  182  34  1.82    큼"
      ]
     },
     "execution_count": 84,
     "metadata": {},
     "output_type": "execute_result"
    }
   ],
   "source": [
    "saram"
   ]
  },
  {
   "cell_type": "code",
   "execution_count": 89,
   "id": "e13a2215-3eb1-4aaf-921b-59d877f0fcfe",
   "metadata": {},
   "outputs": [],
   "source": [
    "saram3 = saram.sort_values('나이', ascending = False)"
   ]
  },
  {
   "cell_type": "code",
   "execution_count": 90,
   "id": "b5098a3f-4836-493d-ad03-4a38d4949781",
   "metadata": {},
   "outputs": [
    {
     "data": {
      "text/html": [
       "<div>\n",
       "<style scoped>\n",
       "    .dataframe tbody tr th:only-of-type {\n",
       "        vertical-align: middle;\n",
       "    }\n",
       "\n",
       "    .dataframe tbody tr th {\n",
       "        vertical-align: top;\n",
       "    }\n",
       "\n",
       "    .dataframe thead th {\n",
       "        text-align: right;\n",
       "    }\n",
       "</style>\n",
       "<table border=\"1\" class=\"dataframe\">\n",
       "  <thead>\n",
       "    <tr style=\"text-align: right;\">\n",
       "      <th></th>\n",
       "      <th>이름</th>\n",
       "      <th>키</th>\n",
       "      <th>나이</th>\n",
       "      <th>키(M)</th>\n",
       "      <th>키높낮이</th>\n",
       "    </tr>\n",
       "  </thead>\n",
       "  <tbody>\n",
       "    <tr>\n",
       "      <th>0</th>\n",
       "      <td>김갑수</td>\n",
       "      <td>172</td>\n",
       "      <td>54</td>\n",
       "      <td>1.72</td>\n",
       "      <td>큼</td>\n",
       "    </tr>\n",
       "    <tr>\n",
       "      <th>3</th>\n",
       "      <td>손흥남</td>\n",
       "      <td>182</td>\n",
       "      <td>34</td>\n",
       "      <td>1.82</td>\n",
       "      <td>큼</td>\n",
       "    </tr>\n",
       "    <tr>\n",
       "      <th>1</th>\n",
       "      <td>박유진</td>\n",
       "      <td>145</td>\n",
       "      <td>31</td>\n",
       "      <td>1.45</td>\n",
       "      <td>작음</td>\n",
       "    </tr>\n",
       "    <tr>\n",
       "      <th>2</th>\n",
       "      <td>김홍수</td>\n",
       "      <td>166</td>\n",
       "      <td>19</td>\n",
       "      <td>1.66</td>\n",
       "      <td>작음</td>\n",
       "    </tr>\n",
       "  </tbody>\n",
       "</table>\n",
       "</div>"
      ],
      "text/plain": [
       "    이름    키  나이  키(M) 키높낮이\n",
       "0  김갑수  172  54  1.72    큼\n",
       "3  손흥남  182  34  1.82    큼\n",
       "1  박유진  145  31  1.45   작음\n",
       "2  김홍수  166  19  1.66   작음"
      ]
     },
     "execution_count": 90,
     "metadata": {},
     "output_type": "execute_result"
    }
   ],
   "source": [
    "saram3"
   ]
  },
  {
   "cell_type": "code",
   "execution_count": 92,
   "id": "fefbf39c-74cb-4bba-a622-5e7737fedebe",
   "metadata": {},
   "outputs": [
    {
     "data": {
      "text/html": [
       "<div>\n",
       "<style scoped>\n",
       "    .dataframe tbody tr th:only-of-type {\n",
       "        vertical-align: middle;\n",
       "    }\n",
       "\n",
       "    .dataframe tbody tr th {\n",
       "        vertical-align: top;\n",
       "    }\n",
       "\n",
       "    .dataframe thead th {\n",
       "        text-align: right;\n",
       "    }\n",
       "</style>\n",
       "<table border=\"1\" class=\"dataframe\">\n",
       "  <thead>\n",
       "    <tr style=\"text-align: right;\">\n",
       "      <th></th>\n",
       "      <th>이름</th>\n",
       "      <th>키</th>\n",
       "      <th>나이</th>\n",
       "      <th>키(M)</th>\n",
       "      <th>키높낮이</th>\n",
       "      <th>나이대</th>\n",
       "    </tr>\n",
       "  </thead>\n",
       "  <tbody>\n",
       "    <tr>\n",
       "      <th>0</th>\n",
       "      <td>김갑수</td>\n",
       "      <td>172</td>\n",
       "      <td>54</td>\n",
       "      <td>1.72</td>\n",
       "      <td>큼</td>\n",
       "      <td>5.4</td>\n",
       "    </tr>\n",
       "    <tr>\n",
       "      <th>3</th>\n",
       "      <td>손흥남</td>\n",
       "      <td>182</td>\n",
       "      <td>34</td>\n",
       "      <td>1.82</td>\n",
       "      <td>큼</td>\n",
       "      <td>3.4</td>\n",
       "    </tr>\n",
       "    <tr>\n",
       "      <th>1</th>\n",
       "      <td>박유진</td>\n",
       "      <td>145</td>\n",
       "      <td>31</td>\n",
       "      <td>1.45</td>\n",
       "      <td>작음</td>\n",
       "      <td>3.1</td>\n",
       "    </tr>\n",
       "    <tr>\n",
       "      <th>2</th>\n",
       "      <td>김홍수</td>\n",
       "      <td>166</td>\n",
       "      <td>19</td>\n",
       "      <td>1.66</td>\n",
       "      <td>작음</td>\n",
       "      <td>1.9</td>\n",
       "    </tr>\n",
       "  </tbody>\n",
       "</table>\n",
       "</div>"
      ],
      "text/plain": [
       "    이름    키  나이  키(M) 키높낮이  나이대\n",
       "0  김갑수  172  54  1.72    큼  5.4\n",
       "3  손흥남  182  34  1.82    큼  3.4\n",
       "1  박유진  145  31  1.45   작음  3.1\n",
       "2  김홍수  166  19  1.66   작음  1.9"
      ]
     },
     "execution_count": 92,
     "metadata": {},
     "output_type": "execute_result"
    }
   ],
   "source": [
    "saram3.assign(나이대=saram3['나이']/10)"
   ]
  },
  {
   "cell_type": "code",
   "execution_count": 94,
   "id": "bd3ccd03-26cb-4f9d-85ab-d1e4220e02f2",
   "metadata": {},
   "outputs": [],
   "source": [
    "saramki = saram3.agg(키_정보=('키','mean'))"
   ]
  },
  {
   "cell_type": "code",
   "execution_count": 95,
   "id": "16b8a6f3-1554-4b9b-998f-1da044101910",
   "metadata": {},
   "outputs": [
    {
     "data": {
      "text/html": [
       "<div>\n",
       "<style scoped>\n",
       "    .dataframe tbody tr th:only-of-type {\n",
       "        vertical-align: middle;\n",
       "    }\n",
       "\n",
       "    .dataframe tbody tr th {\n",
       "        vertical-align: top;\n",
       "    }\n",
       "\n",
       "    .dataframe thead th {\n",
       "        text-align: right;\n",
       "    }\n",
       "</style>\n",
       "<table border=\"1\" class=\"dataframe\">\n",
       "  <thead>\n",
       "    <tr style=\"text-align: right;\">\n",
       "      <th></th>\n",
       "      <th>키</th>\n",
       "    </tr>\n",
       "  </thead>\n",
       "  <tbody>\n",
       "    <tr>\n",
       "      <th>키_정보</th>\n",
       "      <td>166.25</td>\n",
       "    </tr>\n",
       "  </tbody>\n",
       "</table>\n",
       "</div>"
      ],
      "text/plain": [
       "           키\n",
       "키_정보  166.25"
      ]
     },
     "execution_count": 95,
     "metadata": {},
     "output_type": "execute_result"
    }
   ],
   "source": [
    "saramki"
   ]
  },
  {
   "cell_type": "code",
   "execution_count": 98,
   "id": "7f928f23-2960-4f07-89aa-224b9a47005a",
   "metadata": {},
   "outputs": [
    {
     "data": {
      "text/html": [
       "<div>\n",
       "<style scoped>\n",
       "    .dataframe tbody tr th:only-of-type {\n",
       "        vertical-align: middle;\n",
       "    }\n",
       "\n",
       "    .dataframe tbody tr th {\n",
       "        vertical-align: top;\n",
       "    }\n",
       "\n",
       "    .dataframe thead th {\n",
       "        text-align: right;\n",
       "    }\n",
       "</style>\n",
       "<table border=\"1\" class=\"dataframe\">\n",
       "  <thead>\n",
       "    <tr style=\"text-align: right;\">\n",
       "      <th></th>\n",
       "      <th>키_정보</th>\n",
       "    </tr>\n",
       "    <tr>\n",
       "      <th>키높낮이</th>\n",
       "      <th></th>\n",
       "    </tr>\n",
       "  </thead>\n",
       "  <tbody>\n",
       "    <tr>\n",
       "      <th>작음</th>\n",
       "      <td>155.5</td>\n",
       "    </tr>\n",
       "    <tr>\n",
       "      <th>큼</th>\n",
       "      <td>177.0</td>\n",
       "    </tr>\n",
       "  </tbody>\n",
       "</table>\n",
       "</div>"
      ],
      "text/plain": [
       "       키_정보\n",
       "키높낮이       \n",
       "작음    155.5\n",
       "큼     177.0"
      ]
     },
     "execution_count": 98,
     "metadata": {},
     "output_type": "execute_result"
    }
   ],
   "source": [
    "saram.groupby('키높낮이').agg(키_정보=('키','mean'))"
   ]
  },
  {
   "cell_type": "code",
   "execution_count": 99,
   "id": "27795969-094b-4c13-ad6f-c59b43667399",
   "metadata": {},
   "outputs": [
    {
     "data": {
      "text/html": [
       "<div>\n",
       "<style scoped>\n",
       "    .dataframe tbody tr th:only-of-type {\n",
       "        vertical-align: middle;\n",
       "    }\n",
       "\n",
       "    .dataframe tbody tr th {\n",
       "        vertical-align: top;\n",
       "    }\n",
       "\n",
       "    .dataframe thead th {\n",
       "        text-align: right;\n",
       "    }\n",
       "</style>\n",
       "<table border=\"1\" class=\"dataframe\">\n",
       "  <thead>\n",
       "    <tr style=\"text-align: right;\">\n",
       "      <th></th>\n",
       "      <th>이름</th>\n",
       "      <th>키</th>\n",
       "      <th>나이</th>\n",
       "      <th>키(M)</th>\n",
       "      <th>키높낮이</th>\n",
       "    </tr>\n",
       "  </thead>\n",
       "  <tbody>\n",
       "    <tr>\n",
       "      <th>0</th>\n",
       "      <td>김갑수</td>\n",
       "      <td>172</td>\n",
       "      <td>54</td>\n",
       "      <td>1.72</td>\n",
       "      <td>큼</td>\n",
       "    </tr>\n",
       "    <tr>\n",
       "      <th>1</th>\n",
       "      <td>박유진</td>\n",
       "      <td>145</td>\n",
       "      <td>31</td>\n",
       "      <td>1.45</td>\n",
       "      <td>작음</td>\n",
       "    </tr>\n",
       "    <tr>\n",
       "      <th>2</th>\n",
       "      <td>김홍수</td>\n",
       "      <td>166</td>\n",
       "      <td>19</td>\n",
       "      <td>1.66</td>\n",
       "      <td>작음</td>\n",
       "    </tr>\n",
       "    <tr>\n",
       "      <th>3</th>\n",
       "      <td>손흥남</td>\n",
       "      <td>182</td>\n",
       "      <td>34</td>\n",
       "      <td>1.82</td>\n",
       "      <td>큼</td>\n",
       "    </tr>\n",
       "  </tbody>\n",
       "</table>\n",
       "</div>"
      ],
      "text/plain": [
       "    이름    키  나이  키(M) 키높낮이\n",
       "0  김갑수  172  54  1.72    큼\n",
       "1  박유진  145  31  1.45   작음\n",
       "2  김홍수  166  19  1.66   작음\n",
       "3  손흥남  182  34  1.82    큼"
      ]
     },
     "execution_count": 99,
     "metadata": {},
     "output_type": "execute_result"
    }
   ],
   "source": [
    "saram"
   ]
  },
  {
   "cell_type": "code",
   "execution_count": 111,
   "id": "ac372ecb-340d-48a9-bc03-3d11bf1f26d8",
   "metadata": {},
   "outputs": [],
   "source": [
    "saramx = pd.DataFrame({'이름':['나동조','김유신','박남정'],\n",
    "                      '키':[142,195,176],\n",
    "                      '나이':[34,30,29]\n",
    "                     }) "
   ]
  },
  {
   "cell_type": "code",
   "execution_count": 117,
   "id": "e9b66df6-01b4-41e3-97d6-7b5ee5fd99a4",
   "metadata": {},
   "outputs": [
    {
     "data": {
      "text/html": [
       "<div>\n",
       "<style scoped>\n",
       "    .dataframe tbody tr th:only-of-type {\n",
       "        vertical-align: middle;\n",
       "    }\n",
       "\n",
       "    .dataframe tbody tr th {\n",
       "        vertical-align: top;\n",
       "    }\n",
       "\n",
       "    .dataframe thead th {\n",
       "        text-align: right;\n",
       "    }\n",
       "</style>\n",
       "<table border=\"1\" class=\"dataframe\">\n",
       "  <thead>\n",
       "    <tr style=\"text-align: right;\">\n",
       "      <th></th>\n",
       "      <th>이름</th>\n",
       "      <th>키</th>\n",
       "      <th>나이</th>\n",
       "    </tr>\n",
       "  </thead>\n",
       "  <tbody>\n",
       "    <tr>\n",
       "      <th>0</th>\n",
       "      <td>나동조</td>\n",
       "      <td>142</td>\n",
       "      <td>34</td>\n",
       "    </tr>\n",
       "    <tr>\n",
       "      <th>1</th>\n",
       "      <td>김유신</td>\n",
       "      <td>195</td>\n",
       "      <td>30</td>\n",
       "    </tr>\n",
       "    <tr>\n",
       "      <th>2</th>\n",
       "      <td>박남정</td>\n",
       "      <td>176</td>\n",
       "      <td>29</td>\n",
       "    </tr>\n",
       "  </tbody>\n",
       "</table>\n",
       "</div>"
      ],
      "text/plain": [
       "    이름    키  나이\n",
       "0  나동조  142  34\n",
       "1  김유신  195  30\n",
       "2  박남정  176  29"
      ]
     },
     "execution_count": 117,
     "metadata": {},
     "output_type": "execute_result"
    }
   ],
   "source": [
    "saramx"
   ]
  },
  {
   "cell_type": "code",
   "execution_count": 119,
   "id": "0af33314-3520-4c13-b562-301ad58e016e",
   "metadata": {},
   "outputs": [],
   "source": [
    "saramxx = pd.DataFrame({'이름':['나동조','박남정','김유신'],\n",
    "                      '몸무게':[42,76,95]\n",
    "                     }) "
   ]
  },
  {
   "cell_type": "code",
   "execution_count": 120,
   "id": "add06211-b8ce-4e9d-9acd-74f1179f4fff",
   "metadata": {},
   "outputs": [
    {
     "data": {
      "text/html": [
       "<div>\n",
       "<style scoped>\n",
       "    .dataframe tbody tr th:only-of-type {\n",
       "        vertical-align: middle;\n",
       "    }\n",
       "\n",
       "    .dataframe tbody tr th {\n",
       "        vertical-align: top;\n",
       "    }\n",
       "\n",
       "    .dataframe thead th {\n",
       "        text-align: right;\n",
       "    }\n",
       "</style>\n",
       "<table border=\"1\" class=\"dataframe\">\n",
       "  <thead>\n",
       "    <tr style=\"text-align: right;\">\n",
       "      <th></th>\n",
       "      <th>이름</th>\n",
       "      <th>몸무게</th>\n",
       "    </tr>\n",
       "  </thead>\n",
       "  <tbody>\n",
       "    <tr>\n",
       "      <th>0</th>\n",
       "      <td>나동조</td>\n",
       "      <td>42</td>\n",
       "    </tr>\n",
       "    <tr>\n",
       "      <th>1</th>\n",
       "      <td>박남정</td>\n",
       "      <td>76</td>\n",
       "    </tr>\n",
       "    <tr>\n",
       "      <th>2</th>\n",
       "      <td>김유신</td>\n",
       "      <td>95</td>\n",
       "    </tr>\n",
       "  </tbody>\n",
       "</table>\n",
       "</div>"
      ],
      "text/plain": [
       "    이름  몸무게\n",
       "0  나동조   42\n",
       "1  박남정   76\n",
       "2  김유신   95"
      ]
     },
     "execution_count": 120,
     "metadata": {},
     "output_type": "execute_result"
    }
   ],
   "source": [
    "saramxx"
   ]
  },
  {
   "cell_type": "code",
   "execution_count": 121,
   "id": "2ee9f892-8313-4f5b-9f04-019e9b14da57",
   "metadata": {},
   "outputs": [
    {
     "data": {
      "text/html": [
       "<div>\n",
       "<style scoped>\n",
       "    .dataframe tbody tr th:only-of-type {\n",
       "        vertical-align: middle;\n",
       "    }\n",
       "\n",
       "    .dataframe tbody tr th {\n",
       "        vertical-align: top;\n",
       "    }\n",
       "\n",
       "    .dataframe thead th {\n",
       "        text-align: right;\n",
       "    }\n",
       "</style>\n",
       "<table border=\"1\" class=\"dataframe\">\n",
       "  <thead>\n",
       "    <tr style=\"text-align: right;\">\n",
       "      <th></th>\n",
       "      <th>이름</th>\n",
       "      <th>키</th>\n",
       "      <th>나이</th>\n",
       "      <th>이름</th>\n",
       "      <th>몸무게</th>\n",
       "    </tr>\n",
       "  </thead>\n",
       "  <tbody>\n",
       "    <tr>\n",
       "      <th>0</th>\n",
       "      <td>나동조</td>\n",
       "      <td>142</td>\n",
       "      <td>34</td>\n",
       "      <td>나동조</td>\n",
       "      <td>42</td>\n",
       "    </tr>\n",
       "    <tr>\n",
       "      <th>1</th>\n",
       "      <td>김유신</td>\n",
       "      <td>195</td>\n",
       "      <td>30</td>\n",
       "      <td>박남정</td>\n",
       "      <td>76</td>\n",
       "    </tr>\n",
       "    <tr>\n",
       "      <th>2</th>\n",
       "      <td>박남정</td>\n",
       "      <td>176</td>\n",
       "      <td>29</td>\n",
       "      <td>김유신</td>\n",
       "      <td>95</td>\n",
       "    </tr>\n",
       "  </tbody>\n",
       "</table>\n",
       "</div>"
      ],
      "text/plain": [
       "    이름    키  나이   이름  몸무게\n",
       "0  나동조  142  34  나동조   42\n",
       "1  김유신  195  30  박남정   76\n",
       "2  박남정  176  29  김유신   95"
      ]
     },
     "execution_count": 121,
     "metadata": {},
     "output_type": "execute_result"
    }
   ],
   "source": [
    "pd.concat([saramx,saramxx],axis=1)"
   ]
  },
  {
   "cell_type": "code",
   "execution_count": 123,
   "id": "9c12dee7-7bbd-451b-a9b7-b0a7abe97ece",
   "metadata": {},
   "outputs": [
    {
     "data": {
      "text/html": [
       "<div>\n",
       "<style scoped>\n",
       "    .dataframe tbody tr th:only-of-type {\n",
       "        vertical-align: middle;\n",
       "    }\n",
       "\n",
       "    .dataframe tbody tr th {\n",
       "        vertical-align: top;\n",
       "    }\n",
       "\n",
       "    .dataframe thead th {\n",
       "        text-align: right;\n",
       "    }\n",
       "</style>\n",
       "<table border=\"1\" class=\"dataframe\">\n",
       "  <thead>\n",
       "    <tr style=\"text-align: right;\">\n",
       "      <th></th>\n",
       "      <th>이름</th>\n",
       "      <th>키</th>\n",
       "      <th>나이</th>\n",
       "      <th>몸무게</th>\n",
       "    </tr>\n",
       "  </thead>\n",
       "  <tbody>\n",
       "    <tr>\n",
       "      <th>0</th>\n",
       "      <td>나동조</td>\n",
       "      <td>142</td>\n",
       "      <td>34</td>\n",
       "      <td>42</td>\n",
       "    </tr>\n",
       "    <tr>\n",
       "      <th>1</th>\n",
       "      <td>김유신</td>\n",
       "      <td>195</td>\n",
       "      <td>30</td>\n",
       "      <td>95</td>\n",
       "    </tr>\n",
       "    <tr>\n",
       "      <th>2</th>\n",
       "      <td>박남정</td>\n",
       "      <td>176</td>\n",
       "      <td>29</td>\n",
       "      <td>76</td>\n",
       "    </tr>\n",
       "  </tbody>\n",
       "</table>\n",
       "</div>"
      ],
      "text/plain": [
       "    이름    키  나이  몸무게\n",
       "0  나동조  142  34   42\n",
       "1  김유신  195  30   95\n",
       "2  박남정  176  29   76"
      ]
     },
     "execution_count": 123,
     "metadata": {},
     "output_type": "execute_result"
    }
   ],
   "source": [
    "#이거는 합치는 명령어야\n",
    "pd.merge(saramx,saramxx,how='left',on='이름')"
   ]
  },
  {
   "cell_type": "code",
   "execution_count": null,
   "id": "407e15ad-7257-40fc-baf3-3233db5c0a6c",
   "metadata": {},
   "outputs": [],
   "source": []
  }
 ],
 "metadata": {
  "kernelspec": {
   "display_name": "Python 3 (ipykernel)",
   "language": "python",
   "name": "python3"
  },
  "language_info": {
   "codemirror_mode": {
    "name": "ipython",
    "version": 3
   },
   "file_extension": ".py",
   "mimetype": "text/x-python",
   "name": "python",
   "nbconvert_exporter": "python",
   "pygments_lexer": "ipython3",
   "version": "3.9.13"
  }
 },
 "nbformat": 4,
 "nbformat_minor": 5
}
